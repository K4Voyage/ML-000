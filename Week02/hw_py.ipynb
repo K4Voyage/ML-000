{
  "nbformat": 4,
  "nbformat_minor": 0,
  "metadata": {
    "colab": {
      "name": "hw_py.ipynb",
      "provenance": [],
      "collapsed_sections": []
    },
    "kernelspec": {
      "display_name": "Python 3",
      "name": "python3"
    }
  },
  "cells": [
    {
      "cell_type": "code",
      "metadata": {
        "id": "ywT1qyhdRDe4"
      },
      "source": [
        "pip install line_profiler\r\n"
      ],
      "execution_count": null,
      "outputs": []
    },
    {
      "cell_type": "code",
      "metadata": {
        "id": "aTlyp7gZRhbG"
      },
      "source": [
        "%load_ext line_profiler"
      ],
      "execution_count": null,
      "outputs": []
    },
    {
      "cell_type": "code",
      "metadata": {
        "id": "wSs2sbn5qhDe"
      },
      "source": [
        "# coding = 'utf-8'\r\n",
        "import numpy as np\r\n",
        "import pandas as pd\r\n",
        "import timeit\r\n",
        "\r\n",
        "from collections import defaultdict\r\n",
        "from line_profiler import LineProfiler\r\n"
      ],
      "execution_count": null,
      "outputs": []
    },
    {
      "cell_type": "code",
      "metadata": {
        "id": "lGfW2b2VI9nU"
      },
      "source": [
        "\r\n",
        "def target_mean_v1(data, y_name, x_name):\r\n",
        "    result = np.zeros(data.shape[0])\r\n",
        "\r\n",
        "    for i in range(data.shape[0]):\r\n",
        "        groupby_result = data[data.index != i].groupby([x_name], as_index=False).agg(['mean', 'count'])\r\n",
        "        result[i] = groupby_result.loc[groupby_result.index == data.loc[i, x_name], (y_name, 'mean')]\r\n",
        "    return result"
      ],
      "execution_count": null,
      "outputs": []
    },
    {
      "cell_type": "code",
      "metadata": {
        "id": "4vTNH0kJSEEu"
      },
      "source": [
        "def target_mean_v2(data, y_name, x_name):\r\n",
        "\r\n",
        "    result = np.zeros(data.shape[0])\r\n",
        "    value_dict = dict()\r\n",
        "    count_dict = dict()\r\n",
        "\r\n",
        "    for i in range(data.shape[0]):\r\n",
        "        if data.loc[i, x_name] not in value_dict.keys():\r\n",
        "            value_dict[data.loc[i, x_name]] = data.loc[i, y_name]\r\n",
        "            count_dict[data.loc[i, x_name]] = 1\r\n",
        "        else:\r\n",
        "            value_dict[data.loc[i, x_name]] += data.loc[i, y_name]\r\n",
        "            count_dict[data.loc[i, x_name]] += 1\r\n",
        "    for i in range(data.shape[0]):\r\n",
        "        result[i] = (value_dict[data.loc[i, x_name]] - data.loc[i, y_name]) / (count_dict[data.loc[i, x_name]] - 1)\r\n",
        "    return result"
      ],
      "execution_count": null,
      "outputs": []
    },
    {
      "cell_type": "code",
      "metadata": {
        "id": "1xMD0mPkSHs4"
      },
      "source": [
        "def target_mean_v3(data, y_name, x_name):\r\n",
        "\r\n",
        "    result = np.zeros(data.shape[0])\r\n",
        "    x = data[x_name].values\r\n",
        "    y = data[y_name].values\r\n",
        "\r\n",
        "    value_dict = defaultdict(lambda:0)\r\n",
        "    count_dict = defaultdict(lambda:0)\r\n",
        "\r\n",
        "    for i,j in zip(x,y):\r\n",
        "         value_dict[i] += j\r\n",
        "         count_dict[i] += 1\r\n",
        "         result = [(value_dict[i] - j)/(count_dict[i] - 1) for i,j in zip(x,y)]\r\n",
        "    return result"
      ],
      "execution_count": null,
      "outputs": []
    },
    {
      "cell_type": "code",
      "metadata": {
        "id": "BLXe7uK8SMYZ"
      },
      "source": [
        "def target_mean_v4(data:pd.DataFrame, y_name:str, x_name:str) -> np.ndarray:\r\n",
        "    data_shape = data.shape[0]\r\n",
        "    result = np.zeros(data_shape)\r\n",
        "    value_dict = dict()\r\n",
        "    count_dict = dict()\r\n",
        "\r\n",
        "    for i in range(data_shape):\r\n",
        "        data_loc_x = data.loc[i, x_name]\r\n",
        "        data_loc_y = data.loc[i, y_name]\r\n",
        "        if data_loc_x not in value_dict:\r\n",
        "            value_dict[data_loc_x] = data_loc_y\r\n",
        "            count_dict[data_loc_x] = 1\r\n",
        "        else:\r\n",
        "            value_dict[data_loc_x] += data_loc_y\r\n",
        "            count_dict[data_loc_x] += 1\r\n",
        "    for i in range(data_shape):\r\n",
        "        data_loc_x = data.loc[i, x_name]\r\n",
        "        data_loc_y = data.loc[i, y_name]\r\n",
        "        result[i] = (value_dict[data_loc_x] - data_loc_y) / (count_dict[data_loc_x] - 1)\r\n",
        "    return result"
      ],
      "execution_count": null,
      "outputs": []
    },
    {
      "cell_type": "code",
      "metadata": {
        "id": "7p6igML-SPas"
      },
      "source": [
        "def target_mean_v5(data:pd.DataFrame, y_name:str, x_name:str) -> np.ndarray:\r\n",
        "    data_shape = data.shape[0]\r\n",
        "    result = np.zeros(data_shape)\r\n",
        "    value_dict = dict()\r\n",
        "    count_dict = dict()\r\n",
        "\r\n",
        "    x_val_series = data.loc[:, x_name].values\r\n",
        "    y_val_series = data.loc[:, y_name].values\r\n",
        "    for i in range(data_shape):\r\n",
        "        data_loc_x = x_val_series[i]\r\n",
        "        data_loc_y = y_val_series[i]\r\n",
        "        if data_loc_x not in value_dict:\r\n",
        "            value_dict[data_loc_x] = data_loc_y\r\n",
        "            count_dict[data_loc_x] = 1\r\n",
        "        else:\r\n",
        "            value_dict[data_loc_x] += data_loc_y\r\n",
        "            count_dict[data_loc_x] += 1\r\n",
        "    for i in range(data_shape):\r\n",
        "        data_loc_x = x_val_series[i]\r\n",
        "        data_loc_y = y_val_series[i]\r\n",
        "        result[i] = (value_dict[data_loc_x] - data_loc_y) / (count_dict[data_loc_x] - 1) \r\n",
        "\r\n",
        "    return result"
      ],
      "execution_count": null,
      "outputs": []
    },
    {
      "cell_type": "code",
      "metadata": {
        "id": "NZo1CbCIqbFS"
      },
      "source": [
        "y = np.random.randint(2, size=(100000, 1))\r\n",
        "x = np.random.randint(10, size=(100000, 1))\r\n",
        "data = pd.DataFrame(np.concatenate([y, x], axis=1), columns=['y', 'x'])"
      ],
      "execution_count": null,
      "outputs": []
    },
    {
      "cell_type": "code",
      "metadata": {
        "id": "4bxZ_As_qCJu"
      },
      "source": [
        "def main():\r\n",
        "    y = np.random.randint(2, size=(5000, 1))\r\n",
        "    x = np.random.randint(10, size=(5000, 1))\r\n",
        "    data = pd.DataFrame(np.concatenate([y, x], axis=1), columns=['y', 'x'])\r\n",
        "\r\n",
        "    # result_1 = target_mean_v1(data, 'y', 'x')\r\n",
        "    # result_2 = target_mean_v2(data, 'y', 'x')\r\n",
        "    # diff = np.linalg.norm(result_1 - result_2)\r\n",
        "    # print(diff)\r\n",
        "\r\n",
        "    profile = LineProfiler(target_mean_v2) #把函数传递到性能分析器\r\n",
        "    profile.enable() #开始分析\r\n",
        "    target_mean_v2(data, 'y', 'x')\r\n",
        "    profile.disable() #停止分析\r\n",
        "    profile.print_stats() #打印出性能分析结果\r\n",
        "\r\n",
        "\r\n",
        "if __name__ == '__main__':\r\n",
        "    main()"
      ],
      "execution_count": null,
      "outputs": []
    },
    {
      "cell_type": "code",
      "metadata": {
        "id": "zqzsOrm3sN2D"
      },
      "source": [
        "%lprun -f target_mean_v1 target_mean_v1(data, 'y', 'x')"
      ],
      "execution_count": null,
      "outputs": []
    },
    {
      "cell_type": "code",
      "metadata": {
        "id": "-IicVByFP9gb"
      },
      "source": [
        "%%timeit\r\n",
        "target_mean_v1(data, 'y', 'x')\r\n"
      ],
      "execution_count": null,
      "outputs": []
    },
    {
      "cell_type": "code",
      "metadata": {
        "id": "TJbUzSPh-_6w"
      },
      "source": [
        "%lprun -f target_mean_v2 target_mean_v2(data, 'y', 'x')"
      ],
      "execution_count": null,
      "outputs": []
    },
    {
      "cell_type": "code",
      "metadata": {
        "id": "PHVMxYmt_BYo"
      },
      "source": [
        "%lprun -f target_mean_v3 target_mean_v3(data, 'y', 'x')"
      ],
      "execution_count": null,
      "outputs": []
    },
    {
      "cell_type": "code",
      "metadata": {
        "colab": {
          "background_save": true
        },
        "id": "zUwcQZSJNvBQ"
      },
      "source": [
        "%lprun -f target_mean_v4 target_mean_v4(data, 'y', 'x')"
      ],
      "execution_count": null,
      "outputs": []
    }
  ]
}