{
  "nbformat": 4,
  "nbformat_minor": 0,
  "metadata": {
    "colab": {
      "name": "hw_cy.ipynb",
      "provenance": [],
      "collapsed_sections": []
    },
    "kernelspec": {
      "name": "python3",
      "display_name": "Python 3"
    }
  },
  "cells": [
    {
      "cell_type": "markdown",
      "metadata": {
        "id": "l0asgnwI_nhY"
      },
      "source": [
        "加载cython"
      ]
    },
    {
      "cell_type": "code",
      "metadata": {
        "id": "JEuiW_pv9GVh"
      },
      "source": [
        "%load_ext Cython"
      ],
      "execution_count": null,
      "outputs": []
    },
    {
      "cell_type": "markdown",
      "metadata": {
        "id": "YGyTpLcN_hKR"
      },
      "source": [
        "测试Cython变量定义"
      ]
    },
    {
      "cell_type": "code",
      "metadata": {
        "id": "qPja0YCQ9ov-"
      },
      "source": [
        "##\"%%cython\"声明cython使用cdef来定义c变量和c函数\r\n",
        "%%cython\r\n",
        "\r\n",
        "import numpy as np\r\n",
        "cimport numpy as cnp\r\n",
        "import pandas as pd\r\n",
        "\r\n",
        "cdef:\r\n",
        "    int i = 1\r\n",
        "    unsigned long j = 2\r\n",
        "    signed short k = 3\r\n",
        "    long long ll = 4LL\r\n",
        "    bint tflag = True"
      ],
      "execution_count": 31,
      "outputs": []
    },
    {
      "cell_type": "markdown",
      "metadata": {
        "id": "-xYCc7_xAczt"
      },
      "source": [
        "安装profiler，方便效率分析"
      ]
    },
    {
      "cell_type": "code",
      "metadata": {
        "colab": {
          "base_uri": "https://localhost:8080/"
        },
        "id": "ps12r1SDAbck",
        "outputId": "c2177a3f-4166-4015-80b9-22109fa99e5a"
      },
      "source": [
        "pip install line_profiler"
      ],
      "execution_count": 33,
      "outputs": [
        {
          "output_type": "stream",
          "text": [
            "Collecting line_profiler\n",
            "\u001b[?25l  Downloading https://files.pythonhosted.org/packages/66/eb/417ace64f45fee7a0394946f8e1f90f925420fd9b14f1f09abb5284a0ca4/line_profiler-3.1.0-cp36-cp36m-manylinux2010_x86_64.whl (63kB)\n",
            "\u001b[K     |████████████████████████████████| 71kB 3.2MB/s \n",
            "\u001b[?25hRequirement already satisfied: IPython in /usr/local/lib/python3.6/dist-packages (from line_profiler) (5.5.0)\n",
            "Requirement already satisfied: pexpect; sys_platform != \"win32\" in /usr/local/lib/python3.6/dist-packages (from IPython->line_profiler) (4.8.0)\n",
            "Requirement already satisfied: decorator in /usr/local/lib/python3.6/dist-packages (from IPython->line_profiler) (4.4.2)\n",
            "Requirement already satisfied: simplegeneric>0.8 in /usr/local/lib/python3.6/dist-packages (from IPython->line_profiler) (0.8.1)\n",
            "Requirement already satisfied: traitlets>=4.2 in /usr/local/lib/python3.6/dist-packages (from IPython->line_profiler) (4.3.3)\n",
            "Requirement already satisfied: prompt-toolkit<2.0.0,>=1.0.4 in /usr/local/lib/python3.6/dist-packages (from IPython->line_profiler) (1.0.18)\n",
            "Requirement already satisfied: setuptools>=18.5 in /usr/local/lib/python3.6/dist-packages (from IPython->line_profiler) (51.1.1)\n",
            "Requirement already satisfied: pygments in /usr/local/lib/python3.6/dist-packages (from IPython->line_profiler) (2.6.1)\n",
            "Requirement already satisfied: pickleshare in /usr/local/lib/python3.6/dist-packages (from IPython->line_profiler) (0.7.5)\n",
            "Requirement already satisfied: ptyprocess>=0.5 in /usr/local/lib/python3.6/dist-packages (from pexpect; sys_platform != \"win32\"->IPython->line_profiler) (0.7.0)\n",
            "Requirement already satisfied: ipython-genutils in /usr/local/lib/python3.6/dist-packages (from traitlets>=4.2->IPython->line_profiler) (0.2.0)\n",
            "Requirement already satisfied: six in /usr/local/lib/python3.6/dist-packages (from traitlets>=4.2->IPython->line_profiler) (1.15.0)\n",
            "Requirement already satisfied: wcwidth in /usr/local/lib/python3.6/dist-packages (from prompt-toolkit<2.0.0,>=1.0.4->IPython->line_profiler) (0.2.5)\n",
            "Installing collected packages: line-profiler\n",
            "Successfully installed line-profiler-3.1.0\n"
          ],
          "name": "stdout"
        }
      ]
    },
    {
      "cell_type": "markdown",
      "metadata": {
        "id": "NTh3C_aoBK1h"
      },
      "source": [
        "加载profiler"
      ]
    },
    {
      "cell_type": "code",
      "metadata": {
        "id": "2hdLYpMVBN8S"
      },
      "source": [
        "%load_ext line_profiler"
      ],
      "execution_count": 34,
      "outputs": []
    },
    {
      "cell_type": "code",
      "metadata": {
        "id": "0izuOlor9abE"
      },
      "source": [
        "%%cython -a\r\n",
        "\r\n",
        "import numpy as np\r\n",
        "cimport numpy as cnp\r\n",
        "import pandas as pd\r\n",
        "\r\n",
        "def cy_target_mean_v1(data:pd.DataFrame, y_name:str, x_name:str) -> np.ndarray: \r\n",
        "  cdef:\r\n",
        "    int data_shape = data.shape[0]\r\n",
        "    cnp.ndarray[cnp.float64_t] result = np.zeros(data_shape, dtype=np.float64)\r\n",
        "    dict value_dict = {}\r\n",
        "    dict count_dict = {}\r\n",
        "    cnp.ndarray[cnp.int_t] x_val_array = data[x_name].values\r\n",
        "    cnp.ndarray[cnp.int_t] y_val_array = data[y_name].values\r\n",
        "\r\n",
        "  for i in range(data_shape):\r\n",
        "    data_loc_x = x_val_array[i]\r\n",
        "    data_loc_y = y_val_array[i]\r\n",
        "    if data_loc_x not in value_dict:\r\n",
        "      value_dict[data_loc_x] = data_loc_y\r\n",
        "      count_dict[data_loc_x] = 1\r\n",
        "    else:\r\n",
        "      value_dict[data_loc_x] += data_loc_y\r\n",
        "      count_dict[data_loc_x] += 1\r\n",
        "  for i in range(data_shape):\r\n",
        "    count = count_dict[x_val_array[i]] - 1\r\n",
        "    result[i] = (value_dict[x_val_array[i]] - y_val_array[i]) / count\r\n",
        "\r\n",
        "  return result"
      ],
      "execution_count": null,
      "outputs": []
    },
    {
      "cell_type": "code",
      "metadata": {
        "id": "ni6EYuxbCIyh"
      },
      "source": [
        "%%cython -a\r\n",
        "\r\n",
        "import numpy as np\r\n",
        "cimport numpy as cnp\r\n",
        "import pandas as pd\r\n",
        "import cython\r\n",
        "cimport cython\r\n",
        "from cython.parallel import prange \r\n",
        "\r\n",
        "cpdef cy_target_mean_v2(data, cnp.str y_name, cnp.str x_name): \r\n",
        "  cdef:\r\n",
        "    int data_shape = data.shape[0]\r\n",
        "    double[:,] result = np.zeros(data_shape, dtype=np.float64)\r\n",
        "    double[:,] value_dict = np.zeros(10, dtype=np.float64)\r\n",
        "    double[:,] count_dict = np.zeros(10, dtype=np.float64)\r\n",
        "    long[:,] x_val_array = data[x_name].values\r\n",
        "    long[:,] y_val_array = data[y_name].values\r\n",
        "    int i = 0 \r\n",
        "\r\n",
        "  for i in prange(data_shape, nogil=True):\r\n",
        "    value_dict[x_val_array[i]] += y_val_array[i]\r\n",
        "    count_dict[x_val_array[i]] += 1\r\n",
        "  for i in prange(data_shape, nogil=True):\r\n",
        "    result[i] = (value_dict[x_val_array[i]] - y_val_array[i]) / (count_dict[x_val_array[i]] - 1)\r\n",
        "\r\n",
        "  return result"
      ],
      "execution_count": null,
      "outputs": []
    },
    {
      "cell_type": "markdown",
      "metadata": {
        "id": "he1dKRLaILjG"
      },
      "source": [
        "添加一个分割线\r\n",
        "\r\n",
        "————————————————————————————————————————————————————————————————————————————————"
      ]
    },
    {
      "cell_type": "markdown",
      "metadata": {
        "id": "sxd4flKVJqQU"
      },
      "source": [
        "将python函数转换成cython的cpdef函数，并使用prange来代替range进行遍历，为了打开Gil的锁，使用并行进行加速"
      ]
    },
    {
      "cell_type": "code",
      "metadata": {
        "id": "OmGSxSxMGVNW"
      },
      "source": [
        "%%cython -a\r\n",
        "\r\n",
        "import numpy as np\r\n",
        "cimport numpy as cnp\r\n",
        "import pandas as pd\r\n",
        "import cython\r\n",
        "cimport cython\r\n",
        "from cython.parallel import prange \r\n",
        "\r\n",
        "cpdef cy_target_mean_v8(data, cnp.str y_name, cnp.str x_name): \r\n",
        "  cdef:\r\n",
        "    int data_shape = data.shape[0]\r\n",
        "    double[:,] result = np.zeros(data_shape, dtype=np.float64)\r\n",
        "    double[:,] value_dict = np.zeros(10, dtype=np.float64)\r\n",
        "    double[:,] count_dict = np.zeros(10, dtype=np.float64)\r\n",
        "    long[:,] x_val_array = data[x_name].values\r\n",
        "    long[:,] y_val_array = data[y_name].values\r\n",
        "    int i = 0 \r\n",
        "\r\n",
        "  for i in prange(data_shape, nogil=True):\r\n",
        "    value_dict[x_val_array[i]] += y_val_array[i]\r\n",
        "    count_dict[x_val_array[i]] += 1\r\n",
        "  for i in prange(data_shape, nogil=True):\r\n",
        "    result[i] = (value_dict[x_val_array[i]] - y_val_array[i]) / (count_dict[x_val_array[i]] - 1)\r\n",
        "\r\n",
        "  return result"
      ],
      "execution_count": null,
      "outputs": []
    },
    {
      "cell_type": "markdown",
      "metadata": {
        "id": "rEuaTjs3JfUr"
      },
      "source": [
        "用memoryview代替的数组指针"
      ]
    },
    {
      "cell_type": "code",
      "metadata": {
        "id": "mDIjh9aPJEif"
      },
      "source": [
        "%%cython -a\r\n",
        "\r\n",
        "import numpy as np\r\n",
        "cimport numpy as cnp\r\n",
        "import pandas as pd\r\n",
        "import cython\r\n",
        "cimport cython\r\n",
        "from cython.parallel import prange \r\n",
        "\r\n",
        "@cython.boundscheck(False)\r\n",
        "@cython.wraparound(False)\r\n",
        "cpdef cy_target_mean_v4(data, cnp.str y_name, cnp.str x_name): \r\n",
        "  cdef:\r\n",
        "    int data_shape = data.shape[0]\r\n",
        "    double[::1] result = np.zeros(data_shape, dtype=np.float64)\r\n",
        "    double[::1] value_dict = np.zeros(10, dtype=np.float64)\r\n",
        "    long[::1] count_dict = np.zeros(10, dtype=np.int64)\r\n",
        "    long[::1] x_val_array = np.asfortranarray(data[x_name].values, dtype=np.int64)\r\n",
        "    long[::1] y_val_array = np.asfortranarray(data[y_name].values, dtype=np.int64)\r\n",
        "    int i = 0 \r\n",
        "    long x\r\n",
        "\r\n",
        "  for i in prange(data_shape, nogil=True):\r\n",
        "    x = x_val_array[i]\r\n",
        "    value_dict[x] += y_val_array[i]\r\n",
        "    count_dict[x] += 1\r\n",
        "  for i in prange(data_shape, nogil=True):\r\n",
        "    x = x_val_array[i]\r\n",
        "    result[i] = (value_dict[x] - y_val_array[i]) / (count_dict[x] - 1)\r\n",
        "\r\n",
        "  return result"
      ],
      "execution_count": null,
      "outputs": []
    },
    {
      "cell_type": "markdown",
      "metadata": {
        "id": "JZ1JKnOzKDwD"
      },
      "source": [
        "使用指针和memoryview版本进行对比"
      ]
    },
    {
      "cell_type": "code",
      "metadata": {
        "id": "mBGkyzyTJa8C"
      },
      "source": [
        "%%cython -a\r\n",
        "\r\n",
        "import numpy as np\r\n",
        "cimport numpy as cnp\r\n",
        "import pandas as pd\r\n",
        "import cython\r\n",
        "cimport cython\r\n",
        "from cython.parallel import prange \r\n",
        "\r\n",
        "@cython.boundscheck(False)\r\n",
        "@cython.wraparound(False)\r\n",
        "cpdef cy_target_mean_v5(data, cnp.str y_name, cnp.str x_name): \r\n",
        "  cdef:\r\n",
        "    int data_shape = data.shape[0]\r\n",
        "    double[::1] result = np.zeros(data_shape, dtype=np.float64)\r\n",
        "    double[::1] value_dict = np.zeros(10, dtype=np.float64)\r\n",
        "    long[::1] count_dict = np.zeros(10, dtype=np.int64)\r\n",
        "    long[::1] x_val_array = np.asfortranarray(data[x_name].values, dtype=np.int64)\r\n",
        "    long[::1] y_val_array = np.asfortranarray(data[y_name].values, dtype=np.int64)\r\n",
        "    int i = 0 \r\n",
        "    long x\r\n",
        "\r\n",
        "  for i in prange(data_shape, nogil=True):\r\n",
        "    x = x_val_array[i]\r\n",
        "    value_dict[x] += y_val_array[i]\r\n",
        "    count_dict[x] += 1\r\n",
        "  for i in prange(data_shape, nogil=True):\r\n",
        "    x = x_val_array[i]\r\n",
        "    result[i] = (value_dict[x] - y_val_array[i]) / (count_dict[x] - 1)\r\n",
        "\r\n",
        "  return result"
      ],
      "execution_count": null,
      "outputs": []
    },
    {
      "cell_type": "code",
      "metadata": {
        "id": "kwbMt3SDB5M9"
      },
      "source": [
        "y = np.random.randint(2, size=(100000, 1))\r\n",
        "x = np.random.randint(10, size=(100000, 1))\r\n",
        "data = pd.DataFrame(np.concatenate([y, x], axis=1), columns=['y', 'x'])"
      ],
      "execution_count": 62,
      "outputs": []
    },
    {
      "cell_type": "code",
      "metadata": {
        "id": "XwnRwQOO_G1b"
      },
      "source": [
        "%lprun -f cy_target_mean_v1 cy_target_mean_v1(data, 'y', 'x')"
      ],
      "execution_count": null,
      "outputs": []
    },
    {
      "cell_type": "code",
      "metadata": {
        "colab": {
          "base_uri": "https://localhost:8080/"
        },
        "id": "6Wu0LLYeFg5Q",
        "outputId": "94f12fc4-cd52-447c-e385-e55df5138612"
      },
      "source": [
        "%lprun -f cy_target_mean_v2 cy_target_mean_v2(data, 'y', 'x')"
      ],
      "execution_count": 61,
      "outputs": [
        {
          "output_type": "stream",
          "text": [
            "/usr/local/lib/python3.6/dist-packages/line_profiler/line_profiler.py:328: UserWarning: Could not extract a code object for the object <built-in function cy_target_mean_v2>\n",
            "  profile = LineProfiler(*funcs)\n"
          ],
          "name": "stderr"
        }
      ]
    },
    {
      "cell_type": "markdown",
      "metadata": {
        "id": "MZM5YgzqGx4s"
      },
      "source": [
        "%lprun结果均为：Timer unit: 1e-06 ，原因：无法提取代码对象\r\n",
        "\r\n",
        "改用%%timeit评估"
      ]
    },
    {
      "cell_type": "code",
      "metadata": {
        "colab": {
          "base_uri": "https://localhost:8080/"
        },
        "id": "lMvTapIuCtjg",
        "outputId": "a90dd23e-6b7c-4f86-d221-dae64de7c49c"
      },
      "source": [
        "%%timeit\r\n",
        "cy_target_mean_v1(data, 'y', 'x')\r\n"
      ],
      "execution_count": 58,
      "outputs": [
        {
          "output_type": "stream",
          "text": [
            "10 loops, best of 3: 23.9 ms per loop\n"
          ],
          "name": "stdout"
        }
      ]
    },
    {
      "cell_type": "code",
      "metadata": {
        "colab": {
          "base_uri": "https://localhost:8080/"
        },
        "id": "F4U7SYueDIgc",
        "outputId": "0bf3c6c7-631e-49d6-aa8d-7112cf5385e4"
      },
      "source": [
        "%%timeit\r\n",
        "cy_target_mean_v2(data, 'y', 'x')"
      ],
      "execution_count": 51,
      "outputs": [
        {
          "output_type": "stream",
          "text": [
            "1000 loops, best of 3: 1.09 ms per loop\n"
          ],
          "name": "stdout"
        }
      ]
    },
    {
      "cell_type": "code",
      "metadata": {
        "colab": {
          "base_uri": "https://localhost:8080/"
        },
        "id": "ZvizQN_dDIFM",
        "outputId": "41591e8d-8833-4682-c877-b9aad82f973e"
      },
      "source": [
        "%%timeit\r\n",
        "cy_target_mean_v3(data, 'y', 'x')"
      ],
      "execution_count": 57,
      "outputs": [
        {
          "output_type": "stream",
          "text": [
            "The slowest run took 5.65 times longer than the fastest. This could mean that an intermediate result is being cached.\n",
            "1000 loops, best of 3: 1.11 ms per loop\n"
          ],
          "name": "stdout"
        }
      ]
    },
    {
      "cell_type": "code",
      "metadata": {
        "colab": {
          "base_uri": "https://localhost:8080/"
        },
        "id": "pcSg24K5JKCY",
        "outputId": "b472b0bc-5ee2-4fe8-d661-735d3e00d2e1"
      },
      "source": [
        "%%timeit\r\n",
        "cy_target_mean_v4(data, 'y', 'x')"
      ],
      "execution_count": 67,
      "outputs": [
        {
          "output_type": "stream",
          "text": [
            "1000 loops, best of 3: 884 µs per loop\n"
          ],
          "name": "stdout"
        }
      ]
    },
    {
      "cell_type": "code",
      "metadata": {
        "colab": {
          "base_uri": "https://localhost:8080/"
        },
        "id": "oLIZnfD1KTeB",
        "outputId": "8a684dd1-eecf-4e68-e088-331161f19e54"
      },
      "source": [
        "%%timeit\r\n",
        "cy_target_mean_v5(data, 'y', 'x')"
      ],
      "execution_count": 70,
      "outputs": [
        {
          "output_type": "stream",
          "text": [
            "The slowest run took 8.39 times longer than the fastest. This could mean that an intermediate result is being cached.\n",
            "1000 loops, best of 3: 878 µs per loop\n"
          ],
          "name": "stdout"
        }
      ]
    }
  ]
}